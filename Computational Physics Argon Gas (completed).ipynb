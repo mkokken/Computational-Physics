{
 "cells": [
  {
   "cell_type": "code",
   "execution_count": 1,
   "metadata": {
    "collapsed": false
   },
   "outputs": [],
   "source": [
    "import numpy as np\n",
    "import matplotlib.pyplot as plt\n",
    "from numba import jit \n",
    "from math import pi"
   ]
  },
  {
   "cell_type": "code",
   "execution_count": 2,
   "metadata": {
    "collapsed": false
   },
   "outputs": [],
   "source": [
    "#system properties\n",
    "M=6                           #Amount of fcc 'cells' in 1 dimension of the domain. Determines amount of particles.\n",
    "density=0.45\n",
    "Tdes=1.55                     #Desired temperature, set this to the temperature at which measurements are to be taken.\n",
    "\n",
    "#derived properties\n",
    "n=4*M*M*M                     #Amount of particles. For increasing M: 4, 32, 108, 256, 500, 864, 1372, 2048, 2916, 4000\n",
    "volume=n/density\n",
    "Ldomain=volume**(1/3)\n",
    "Lcell=Ldomain/M\n",
    "\n",
    "#simulation parameters\n",
    "h=0.004                       #Timestep size in reduced units.\n",
    "teq=10                        #Equilibration time in reduced units.\n",
    "tmeas=2                       #Time for one measurement in reduced units.\n",
    "NM= 50                        #Number of measurements to be taken, total simulated time is equilibrium time+NM*measurement time.\n",
    "r_cut_off = 3                 #Cut of distance in reduced units. Only particles within this distance are taken into account for\n",
    "r_cut_off2 = r_cut_off**2     #the force."
   ]
  },
  {
   "cell_type": "code",
   "execution_count": 3,
   "metadata": {
    "collapsed": false
   },
   "outputs": [],
   "source": [
    "#initiation of position\n",
    "pos=np.zeros((3,n),dtype='float')     #position of n particles as a vector of length 3 results in a 3xn matrix\n",
    "\n",
    "#By looping over each cell in each direction, 4 particles can by assigned in each cell, located at the corner and the middle of \n",
    "#three adjacent faces.\n",
    "q=0\n",
    "for i in range(M):\n",
    "    for j in range(M):\n",
    "        for k in range(M):\n",
    "            pos[:,q]=[Lcell*i,Lcell*j,Lcell*k]\n",
    "            q+=1\n",
    "            pos[:,q]=[Lcell/2+i*Lcell,j*Lcell,Lcell/2+k*Lcell]\n",
    "            q+=1\n",
    "            pos[:,q]=[Lcell/2+i*Lcell,Lcell/2+j*Lcell,k*Lcell]\n",
    "            q+=1\n",
    "            pos[:,q]=[i*Lcell,Lcell/2+j*Lcell,Lcell/2+k*Lcell]\n",
    "            q+=1\n"
   ]
  },
  {
   "cell_type": "code",
   "execution_count": 4,
   "metadata": {
    "collapsed": false
   },
   "outputs": [],
   "source": [
    "#initiation of momentum\n",
    "mom=np.zeros((3,n),dtype='float')     #momentum of n particles as a vector of length 3 results in a 3xn matrix\n",
    "mu, sigma = 0, 1                      #mean and standard deviation, these values are arbitrary (sigma should not be 0 though)\n",
    "\n",
    "#For each component of the momentum, n values are taken from a normal distribution. Then, the mean is taken and subtracted from\n",
    "#the momentum of each particle. This guarantees a 0 nett velocity of the particle 'cloud'.\n",
    "for i in range(3):\n",
    "    mom[i,:]=np.random.normal(mu, sigma,n)\n",
    "    mean=np.mean(mom[i,:])\n",
    "    mom[i,:]-=mean\n",
    "\n",
    "#The actual temperature of the system is calculated, after which the momentum is rescaled such that the actual temperature\n",
    "#equals the desired temperature.\n",
    "T=1/3*np.mean(mom[0,:]**2 + mom[1,:]**2 + mom[2,:]**2)\n",
    "mom=mom*(Tdes/T)**0.5"
   ]
  },
  {
   "cell_type": "code",
   "execution_count": 5,
   "metadata": {
    "collapsed": false
   },
   "outputs": [],
   "source": [
    "#definition force and virial calculation scheme\n",
    "@jit  \n",
    "def force(pos,n,Ldomain):             \n",
    "    F = np.zeros((3,n),dtype='float') #Force on each of n particles as a vector of length 3 results in a 3xn matrix.\n",
    "    virial = 0                        #Initiation of the virial term which is required for the virial equation (pressure).\n",
    "    for i in range(n):\n",
    "        for j in range(i):            #By using Newton's 3rd law, we can evaluate only (roughly) half of the matrix.\n",
    "            dU = 0\n",
    "            dx = (pos[0,i]-pos[0,j])\n",
    "            dy = (pos[1,i]-pos[1,j])\n",
    "            dz = (pos[2,i]-pos[2,j])\n",
    "            \n",
    "            dx = dx - np.rint(dx/Ldomain)*Ldomain     #implementation of the periodic boundary condition by using the\n",
    "            dy = dy - np.rint(dy/Ldomain)*Ldomain     #'nearest neighbour' principle: If the particle is more than half the\n",
    "            dz = dz - np.rint(dz/Ldomain)*Ldomain     #domain length away, a particle from a neighbouring domain is closer\n",
    "                                                      #and is taken into account.\n",
    "            dr2 = dx*dx + dy*dy + dz*dz\n",
    "\n",
    "            if dr2 <= r_cut_off2:                     #Only particles within a sphere of radius r are taken into account.\n",
    "                ir2 = 1/dr2\n",
    "                ir6 = ir2 * ir2 * ir2\n",
    "                ir12 = ir6 * ir6\n",
    "                \n",
    "                dU = 24 * ir2 * (2 * ir12 - ir6)      #-dU/dr /r term needed for the force calculations.\n",
    "                \n",
    "                F[0,i]+=dU*dx\n",
    "                F[1,i]+=dU*dy\n",
    "                F[2,i]+=dU*dz\n",
    "                \n",
    "                F[0,j]-=dU*dx                         #Newton's 3rd law makes life easier!\n",
    "                F[1,j]-=dU*dy\n",
    "                F[2,j]-=dU*dz\n",
    "                \n",
    "            virial-= dr2 * dU                         #The virial contribution is calculated as: -(-dU/dr /r)*r^2=r*dU/dr for\n",
    "                                                      #the current particle and added to the total.\n",
    "    return F, virial"
   ]
  },
  {
   "cell_type": "code",
   "execution_count": 6,
   "metadata": {
    "collapsed": false
   },
   "outputs": [],
   "source": [
    "#initiation forces and virial\n",
    "F, virial= force(pos, n, Ldomain)"
   ]
  },
  {
   "cell_type": "code",
   "execution_count": 7,
   "metadata": {
    "collapsed": false
   },
   "outputs": [],
   "source": [
    "#equilibration of the system\n",
    "for i in range(np.int(teq/h)):\n",
    "    #Determines the actual temperature of the system from the average momentum, and then multiplies the momentum\n",
    "    #by a correcting factor to force the temperature at the desired temperature.\n",
    "    T = 1/3*np.mean(mom[0,:]*mom[0,:] + mom[1,:]*mom[1,:] + mom[2,:]*mom[2,:])\n",
    "    mom = (Tdes/T)**0.5*mom\n",
    "    \n",
    "    #Time integration by using the Verlet/leapfrog algorithm.\n",
    "    mom += 0.5*F*h  \n",
    "    pos += mom*h\n",
    "    pos = np.mod(pos,Ldomain)\n",
    "    F, virial = force(pos,n, Ldomain)\n",
    "    mom += 0.5*F*h\n"
   ]
  },
  {
   "cell_type": "code",
   "execution_count": 8,
   "metadata": {
    "collapsed": false
   },
   "outputs": [],
   "source": [
    "#'release' of the system and subsequent measurements\n",
    "\n",
    "#Initiation of measurable quantities. Vectors of length NM to contain NM measurements.\n",
    "virialT = np.zeros(NM, dtype='float')         #'Time integrated' virial term\n",
    "K = np.zeros(np.int(tmeas/h), dtype='float')  #Kinetic energy of the system for current measurement loop as a function of time.\n",
    "KT = np.zeros(NM, dtype='float')              #Time averaged Kinetic energy of the system in reduced units.\n",
    "dKT = np.zeros(NM, dtype='float')             #Time averaged Kinetic energy fluctiation of the system in reduced units.\n",
    "Tmeas = np.zeros(NM, dtype='float')           #Temperature as measured at the end of the measurement loop in reduced units.\n",
    "D = np.zeros(NM, dtype='float')               #Difusion coefficient of the system in reduced units.\n",
    "\n",
    "for j in range(NM):                           #The measurement loop is executed for each measurement.\n",
    "    disp = np.zeros((3,n), dtype='float')     #We keep track of the nett displacement of each particle in each direction (3xn)\n",
    "    for i in range(np.int(tmeas/h)):\n",
    "        #Time integration by using the Verlet/leapfrog algorithm.\n",
    "        mom += 0.5*F*h  \n",
    "        pos += mom*h\n",
    "        pos = np.mod(pos,Ldomain)\n",
    "        disp += mom*h                         #Note we can't just take the difference in pos due to the periodic BC.\n",
    "        F, virial   = force(pos,n, Ldomain)\n",
    "        mom += 0.5*F*h \n",
    "        \n",
    "        #Taking of measurements for the entire duration of the simulation:\n",
    "        virialT[j]+=virial\n",
    "        K[i]=0.5*np.sum(mom[0,:]*mom[0,:] + mom[1,:]*mom[1,:] + mom[2,:]*mom[2,:])\n",
    "   \n",
    "    #Measuring the appropriate properties at the end of the current simulation loop.\n",
    "    KT[j]=np.mean(K)\n",
    "    dKT[j]=np.mean((K-KT[j])*(K-KT[j]))\n",
    "    Tmeas[j]=2/(3*n)*np.mean(K)\n",
    "    D[j] = np.mean(sum(disp*disp))            #From <r^2>=Dt, should still be divided by t, but that can be done outside the loop.\n",
    "    \n",
    "    \n",
    "virialT = virialT/(tmeas/h)                   #Transforming the 'time integrated' virial term into time averaged by dividing by\n",
    "                                              #the number of time steps.\n",
    "D = D/tmeas                                   #Completes the calculation of D.          "
   ]
  },
  {
   "cell_type": "code",
   "execution_count": 9,
   "metadata": {
    "collapsed": false
   },
   "outputs": [
    {
     "name": "stdout",
     "output_type": "stream",
     "text": [
      "1.53700842583 0.165285965502 0.546130478711 0.0649927110652 1.79965563733 0.0943916747065 1.89031216091 0.159189815991\n"
     ]
    }
   ],
   "source": [
    "\n",
    "cut_off_term = 48/9*(r_cut_off)**(-9) - 8*(r_cut_off)**(-3)           #calculation of the last term in the virial equation.\n",
    "P = (1 - virialT/(3*Tmeas*n)) + 2*pi*n/(3*Tmeas*volume)*cut_off_term  #Measure of the pressure for each measurement using virial eq.\n",
    "Pav = np.mean(P)                              #Average over all measurements, gives a good indication of the pressure of the system.\n",
    "Perror = np.std(P)                            #The deviation from the average gives a good measure of the spread and thus error\n",
    "                                              #in the measurement of the pressure.\n",
    "Cv = -3/(3*n*dKT/(KT*KT)-2)                   #Specific heat per particle from Lebowitz' equation. \n",
    "Cvav = np.mean(Cv)                            #Average over all measurements.\n",
    "Cverror = np.std(Cv)                          #Standard deviation provides the error in the measurement.\n",
    "\n",
    "Dav = np.mean(D)\n",
    "Derror = np.std(D)\n",
    "\n",
    "Tav = np.mean(Tmeas)\n",
    "Tvar = np.sqrt(n)*np.std(Tmeas)               #We measure the variation instead of the standard deviation to give an indication of\n",
    "                                              #the spread of the temperature (should not decrease by increasing amount of measurements)\n",
    "print(Tav,Tvar,Pav,Perror,Cvav,Cverror,Dav,Derror)"
   ]
  },
  {
   "cell_type": "code",
   "execution_count": null,
   "metadata": {
    "collapsed": true
   },
   "outputs": [],
   "source": []
  }
 ],
 "metadata": {
  "kernelspec": {
   "display_name": "Python 3",
   "language": "python",
   "name": "python3"
  },
  "language_info": {
   "codemirror_mode": {
    "name": "ipython",
    "version": 3
   },
   "file_extension": ".py",
   "mimetype": "text/x-python",
   "name": "python",
   "nbconvert_exporter": "python",
   "pygments_lexer": "ipython3",
   "version": "3.5.1"
  }
 },
 "nbformat": 4,
 "nbformat_minor": 0
}
